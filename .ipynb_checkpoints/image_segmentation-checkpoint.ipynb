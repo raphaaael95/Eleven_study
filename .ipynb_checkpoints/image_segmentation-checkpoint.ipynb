{
 "cells": [
  {
   "cell_type": "code",
   "execution_count": 12,
   "metadata": {},
   "outputs": [],
   "source": [
    "import cv2\n",
    "import numpy as np\n",
    "import matplotlib.pyplot as plt"
   ]
  },
  {
   "cell_type": "code",
   "execution_count": 19,
   "metadata": {},
   "outputs": [],
   "source": [
    "img = cv2.imread('image_ex.jpg')\n",
    "img2=cv2.imread('image_ex2.jpg')\n",
    "img3=cv2.imread('data_segmentation/BinRushed/BinRushed1/image1-1.jpg')\n",
    "#imgray = cv2.cvtColor(img, cv2.COLOR_BGR2GRAY) # change the color of the image to black and white\n",
    "#ret, thresh = cv2.threshold(imgray, 0, 255, 0)\n",
    "#ret, thresh = cv2.threshold(gray,0,255,cv2.THRESH_BINARY+cv2.THRESH_OTSU)\n",
    "#contours, hierarchy = cv2.findContours(thresh, cv2.RETR_TREE, cv2.CHAIN_APPROX_SIMPLE)"
   ]
  },
  {
   "cell_type": "code",
   "execution_count": 20,
   "metadata": {},
   "outputs": [],
   "source": [
    "def remove_noisy(contours):\n",
    "    final_contours = []\n",
    "    for contour in contours:\n",
    "        area = cv2.contourArea(contour)\n",
    "        if area > 300:                    # to remove noisy points\n",
    "            final_contours.append(contour)\n",
    "    return final_contours"
   ]
  },
  {
   "cell_type": "code",
   "execution_count": 21,
   "metadata": {},
   "outputs": [],
   "source": [
    "def create_window(img,gray,thresh):\n",
    "    cv2.namedWindow('image',cv2.WINDOW_NORMAL)\n",
    "    cv2.resizeWindow('image', 1024,722)\n",
    "    cv2.imshow('image',thresh)\n",
    "    cv2.waitKey(0)\n",
    "    cv2.destroyAllWindows()"
   ]
  },
  {
   "cell_type": "code",
   "execution_count": 22,
   "metadata": {},
   "outputs": [],
   "source": [
    "def calculate_area(final_contours):\n",
    "    for cont in final_contours:\n",
    "        area = cv2.contourArea(cont)\n",
    "        print(area)"
   ]
  },
  {
   "cell_type": "code",
   "execution_count": 23,
   "metadata": {},
   "outputs": [],
   "source": [
    "def im_contours(img):\n",
    "    gray = cv2.cvtColor(img,cv2.COLOR_BGR2GRAY) #color in grey\n",
    "    ret, thresh = cv2.threshold(gray,1,255,cv2.THRESH_BINARY+cv2.THRESH_OTSU) #apply the mask\n",
    "    kernel = np.ones((5,5),np.uint8)\n",
    "    thresh =  cv2.erode(thresh,kernel,iterations = 1) # erosion : dilate the black part of the image \n",
    "    thresh=cv2.morphologyEx(thresh, cv2.MORPH_CLOSE, kernel) #remove outlier points\n",
    "    contours, hierarchy = cv2.findContours(thresh,cv2.RETR_TREE,cv2.CHAIN_APPROX_NONE)\n",
    "    final_contours=remove_noisy(contours)\n",
    "    cv2.drawContours(img, final_contours, -1, (0,255,0), 3) #draw the contours\n",
    "    create_window(img,gray,thresh)\n",
    "    calculate_area(final_contours)"
   ]
  },
  {
   "cell_type": "code",
   "execution_count": 24,
   "metadata": {},
   "outputs": [
    {
     "name": "stdout",
     "output_type": "stream",
     "text": [
      "1592405.0\n",
      "344.0\n",
      "549.5\n",
      "1464.5\n",
      "2122.0\n",
      "3841.0\n"
     ]
    }
   ],
   "source": [
    "contours=im_contours(img3)"
   ]
  },
  {
   "cell_type": "code",
   "execution_count": null,
   "metadata": {},
   "outputs": [],
   "source": [
    "cnt = final_contours[2]\n",
    "\n",
    "area = cv2.contourArea(cnt)"
   ]
  },
  {
   "cell_type": "code",
   "execution_count": null,
   "metadata": {},
   "outputs": [],
   "source": [
    "area/1000"
   ]
  },
  {
   "cell_type": "code",
   "execution_count": null,
   "metadata": {},
   "outputs": [],
   "source": [
    "len(contours)"
   ]
  },
  {
   "cell_type": "code",
   "execution_count": null,
   "metadata": {},
   "outputs": [],
   "source": []
  },
  {
   "cell_type": "code",
   "execution_count": null,
   "metadata": {},
   "outputs": [],
   "source": []
  }
 ],
 "metadata": {
  "kernelspec": {
   "display_name": "Python 3",
   "language": "python",
   "name": "python3"
  },
  "language_info": {
   "codemirror_mode": {
    "name": "ipython",
    "version": 3
   },
   "file_extension": ".py",
   "mimetype": "text/x-python",
   "name": "python",
   "nbconvert_exporter": "python",
   "pygments_lexer": "ipython3",
   "version": "3.7.4"
  }
 },
 "nbformat": 4,
 "nbformat_minor": 2
}
