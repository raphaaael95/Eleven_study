{
 "cells": [
  {
   "cell_type": "markdown",
   "metadata": {},
   "source": [
    "# Libraries"
   ]
  },
  {
   "cell_type": "code",
   "execution_count": 2,
   "metadata": {},
   "outputs": [],
   "source": [
    "import os \n",
    "import glob\n",
    "import numpy as np\n",
    "import pandas as pd\n",
    "import matplotlib.pyplot as plt\n",
    "import seaborn as sns\n",
    "import cv2\n",
    "sns.set()"
   ]
  },
  {
   "cell_type": "markdown",
   "metadata": {},
   "source": [
    "# Import data"
   ]
  },
  {
   "cell_type": "code",
   "execution_count": 3,
   "metadata": {},
   "outputs": [
    {
     "data": {
      "text/html": [
       "<div>\n",
       "<style scoped>\n",
       "    .dataframe tbody tr th:only-of-type {\n",
       "        vertical-align: middle;\n",
       "    }\n",
       "\n",
       "    .dataframe tbody tr th {\n",
       "        vertical-align: top;\n",
       "    }\n",
       "\n",
       "    .dataframe thead th {\n",
       "        text-align: right;\n",
       "    }\n",
       "</style>\n",
       "<table border=\"1\" class=\"dataframe\">\n",
       "  <thead>\n",
       "    <tr style=\"text-align: right;\">\n",
       "      <th></th>\n",
       "      <th>used_liter</th>\n",
       "      <th>image</th>\n",
       "      <th>name</th>\n",
       "    </tr>\n",
       "  </thead>\n",
       "  <tbody>\n",
       "    <tr>\n",
       "      <th>0</th>\n",
       "      <td>232</td>\n",
       "      <td>0219dd3cb0c76d33a53bb1f4585565adef4a13f8.jpg</td>\n",
       "      <td>HQ_analog.csv</td>\n",
       "    </tr>\n",
       "    <tr>\n",
       "      <th>1</th>\n",
       "      <td>239</td>\n",
       "      <td>04186f57acff48a961a7f50e3eff63012954e958.jpg</td>\n",
       "      <td>HQ_analog.csv</td>\n",
       "    </tr>\n",
       "    <tr>\n",
       "      <th>2</th>\n",
       "      <td>10496</td>\n",
       "      <td>1b4627a6b5e2df9aac7f00c4fadd4a312ebefb38.jpg</td>\n",
       "      <td>HQ_analog.csv</td>\n",
       "    </tr>\n",
       "    <tr>\n",
       "      <th>3</th>\n",
       "      <td>24</td>\n",
       "      <td>02249cd7cfb602f20e03f3a4e87455737e818f63.jpg</td>\n",
       "      <td>HQ_analog.csv</td>\n",
       "    </tr>\n",
       "    <tr>\n",
       "      <th>4</th>\n",
       "      <td>1298</td>\n",
       "      <td>0a0f34d1705019f3c46b7a2f480a7668ab785005.jpg</td>\n",
       "      <td>HQ_analog.csv</td>\n",
       "    </tr>\n",
       "  </tbody>\n",
       "</table>\n",
       "</div>"
      ],
      "text/plain": [
       "   used_liter                                         image           name\n",
       "0         232  0219dd3cb0c76d33a53bb1f4585565adef4a13f8.jpg  HQ_analog.csv\n",
       "1         239  04186f57acff48a961a7f50e3eff63012954e958.jpg  HQ_analog.csv\n",
       "2       10496  1b4627a6b5e2df9aac7f00c4fadd4a312ebefb38.jpg  HQ_analog.csv\n",
       "3          24  02249cd7cfb602f20e03f3a4e87455737e818f63.jpg  HQ_analog.csv\n",
       "4        1298  0a0f34d1705019f3c46b7a2f480a7668ab785005.jpg  HQ_analog.csv"
      ]
     },
     "execution_count": 3,
     "metadata": {},
     "output_type": "execute_result"
    }
   ],
   "source": [
    "data_path = os.getcwd() + str('\\\\Dataset\\\\') #check adress if not working /Dataset/\n",
    "df = pd.DataFrame()\n",
    "\n",
    "for file in glob.glob(data_path + '*.csv'):\n",
    "    head, tail = os.path.split(file)\n",
    "    file_name = tail\n",
    "    current = pd.read_csv(file, sep = \";\")\n",
    "    current[\"name\"] = file_name\n",
    "    df = pd.concat([df, current],axis=0)\n",
    "\n",
    "df = df.drop(df.columns[[0]], axis=1)\n",
    "df.head()"
   ]
  },
  {
   "cell_type": "markdown",
   "metadata": {},
   "source": [
    "# Exploratory Data Analysis"
   ]
  },
  {
   "cell_type": "code",
   "execution_count": 4,
   "metadata": {},
   "outputs": [
    {
     "data": {
      "text/plain": [
       "(array([0, 1, 2, 3, 4]), <a list of 5 Text xticklabel objects>)"
      ]
     },
     "execution_count": 4,
     "metadata": {},
     "output_type": "execute_result"
    },
    {
     "data": {
      "image/png": "[encoded data removed]",
      "text/plain": [
       "<Figure size 360x360 with 1 Axes>"
      ]
     },
     "metadata": {},
     "output_type": "display_data"
    }
   ],
   "source": [
    "# image per folder\n",
    "sns.catplot(x=\"name\", kind=\"count\", palette=\"ch:.25\", data=df);\n",
    "plt.title('Image per folder', fontsize = 20, fontweight = 20)\n",
    "plt.xlabel('')\n",
    "plt.ylabel('Count')\n",
    "plt.xticks(rotation=90)"
   ]
  },
  {
   "cell_type": "code",
   "execution_count": null,
   "metadata": {},
   "outputs": [],
   "source": [
    "# used liter per folder\n",
    "sns.catplot(x=\"name\", y=\"used_liter\", kind=\"swarm\", data=df);\n",
    "plt.title('Used liter per folder', fontsize = 20, fontweight = 20)\n",
    "plt.xlabel('')\n",
    "plt.ylabel('Used liter')\n",
    "plt.xticks(rotation=90)"
   ]
  },
  {
   "cell_type": "code",
   "execution_count": null,
   "metadata": {},
   "outputs": [],
   "source": [
    "# divide into train and test\n",
    "# import images - or at least find a way to loop through\n",
    "# constrast\n",
    "# basic algorithm\n",
    "# performance evaluation - easy data to compare with\n",
    "# include business point of view - how to implement \n",
    "# goal of the project\n",
    "# presentation outline \n",
    "# tasks for digit recognition\n",
    "# tasks for optimisation"
   ]
  },
  {
   "cell_type": "code",
   "execution_count": null,
   "metadata": {},
   "outputs": [],
   "source": [
    "img = cv2.imread('/Dataset/HQ_digital/0086c28630535f9d722eed740f9ce3f8336ec432.jpg')"
   ]
  },
  {
   "cell_type": "code",
   "execution_count": null,
   "metadata": {},
   "outputs": [],
   "source": []
  }
 ],
 "metadata": {
  "kernelspec": {
   "display_name": "Python 3",
   "language": "python",
   "name": "python3"
  },
  "language_info": {
   "codemirror_mode": {
    "name": "ipython",
    "version": 3
   },
   "file_extension": ".py",
   "mimetype": "text/x-python",
   "name": "python",
   "nbconvert_exporter": "python",
   "pygments_lexer": "ipython3",
   "version": "3.7.3"
  }
 },
 "nbformat": 4,
 "nbformat_minor": 2
}
